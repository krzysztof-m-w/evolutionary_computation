{
 "cells": [
  {
   "cell_type": "code",
   "execution_count": 50,
   "metadata": {},
   "outputs": [],
   "source": [
    "import sys\n",
    "import os\n",
    "import numpy as np\n",
    "import pandas as pd\n",
    "from scipy.spatial import distance_matrix\n",
    "from typing import List\n",
    "import matplotlib.pyplot as plt\n",
    "import math\n",
    "import time\n",
    "sys.path.insert(1, '../utils')\n",
    "from utils import *\n",
    "from utils import plot_solution, greedy_2_regret_weighted, score, get_random_solution\n",
    "from typing import Callable, Tuple\n",
    "from abc import ABC, abstractmethod\n",
    "from sortedcontainers import SortedList\n",
    "import random\n",
    "import numba"
   ]
  },
  {
   "cell_type": "code",
   "execution_count": 51,
   "metadata": {},
   "outputs": [],
   "source": [
    "a=pd.read_csv('../data/TSPA.csv', sep=';', header=None)\n",
    "b=pd.read_csv('../data/TSPB.csv', sep=';', header=None)\n",
    "tspa=pd.DataFrame(data=a.values, columns=['x', 'y', 'val'])\n",
    "tspb=pd.DataFrame(data=b.values, columns=['x', 'y', 'val'])\n",
    "coordinates=tspa[['x', 'y']].values\n",
    "coordinatesb=tspb[['x', 'y']].values\n",
    "dist=distance_matrix(coordinates, coordinates)\n",
    "dist=np.round(dist)\n",
    "distb=distance_matrix(coordinatesb, coordinatesb)\n",
    "distb=np.round(distb)\n",
    "costs=tspa[['val']].values\n",
    "costsb=tspb[['val']].values"
   ]
  },
  {
   "cell_type": "code",
   "execution_count": 52,
   "metadata": {},
   "outputs": [],
   "source": [
    "class Neighborhood(ABC):\n",
    "    @abstractmethod\n",
    "    def neighborhood_size(self):\n",
    "        pass\n",
    "\n",
    "    @abstractmethod\n",
    "    def get_difference(self, ind, solution: List[int], unselected):\n",
    "        pass\n",
    "\n",
    "    @abstractmethod\n",
    "    def modify_solution(self, ind, solution: List[int], unselected):\n",
    "        pass\n"
   ]
  },
  {
   "cell_type": "code",
   "execution_count": 53,
   "metadata": {},
   "outputs": [],
   "source": [
    "class EdgeNeighborhood(Neighborhood):\n",
    "    def __init__(self, distance_matrix: np.ndarray, costs: np.ndarray, n) -> None:\n",
    "        self.distance_matrix = distance_matrix\n",
    "        self.costs = costs\n",
    "        self.indexes = list()\n",
    "        for i in range(1, n-1):\n",
    "            m = n - 1 if i == 1 else n\n",
    "            for j in range(i+1, m):\n",
    "                self.indexes.append((i,j))\n",
    "        self.indexes=np.array(self.indexes)\n",
    "\n",
    "        self.size=len(self.indexes)\n",
    "    def neighborhood_size(self):\n",
    "        return self.size\n",
    "    def batch_get_differences(self, solution: List[int], unselected: SortedList, indexes=None):\n",
    "        n = 100\n",
    "        if indexes is None:\n",
    "            indexes = np.arange(len(self.indexes))\n",
    "        selected_indexes = self.indexes[indexes]\n",
    "        i_vals, j_vals = selected_indexes[:, 0], selected_indexes[:, 1]\n",
    "        s=np.array(solution)\n",
    "        \n",
    "        i1 = s[(i_vals - 1) % n]\n",
    "        i2 = s[i_vals]\n",
    "        j1 = s[j_vals]\n",
    "        j2 = s[(j_vals + 1) % n]\n",
    "\n",
    "        # Vectorized computation of differences\n",
    "        return -self.distance_matrix[i1, i2] - self.distance_matrix[j1, j2] \\\n",
    "            + self.distance_matrix[i1, j1] + self.distance_matrix[i2, j2]\n",
    "    def get_difference(self, ind, solution: List[int], unselected: SortedList):\n",
    "        n = 100\n",
    "        i, j = self.indexes[ind]\n",
    "\n",
    "        i1 = solution[i - 1]\n",
    "        i2 = solution[i]\n",
    "\n",
    "        j1 = solution[j]\n",
    "        j2 = solution[(j + 1)%n]\n",
    "\n",
    "        return -self.distance_matrix[i1, i2] - self.distance_matrix[j1, j2] \\\n",
    "            + self.distance_matrix[i1, j1] + self.distance_matrix[i2, j2]\n",
    "    \n",
    "    def modify_solution(self, ind, solution: List[int], unselected: SortedList):\n",
    "        i, j = self.indexes[ind]\n",
    "        solution[i:j+1] = solution[j:i-1:-1]\n",
    "        return solution\n",
    "    def get_affected_indexes(self, ind, solution: List[int]) -> List[int]:\n",
    "        i, j = self.indexes[ind]\n",
    "        start = i - 1\n",
    "        end = j + 2\n",
    "        reversed_segment = set(range(start, end)) \n",
    "        affected = set()\n",
    "        for k, (x, y) in enumerate(self.indexes):\n",
    "            if x in reversed_segment or y in reversed_segment:\n",
    "                affected.add(k)\n",
    "\n",
    "        return list(affected)\n",
    "\n",
    "    \n",
    "class InterNeighborhood(Neighborhood):\n",
    "    def __init__(self, distance_matrix: np.ndarray, costs: np.ndarray, n) -> None:\n",
    "        self.dist_mat = (distance_matrix+costs).T\n",
    "        self.indexes = list()\n",
    "        m = len(self.dist_mat) - n\n",
    "        for i in range(n):\n",
    "            for j in range(m):\n",
    "                self.indexes.append((i,j))\n",
    "        self.indexes=np.array(self.indexes)\n",
    "\n",
    "        self.size=len(self.indexes)\n",
    "    def neighborhood_size(self):\n",
    "        return self.size\n",
    "    def batch_get_differences(self, solution: List[int], unselected_list: List[int], indexes=None):\n",
    "        if indexes is None:\n",
    "            indexes = np.arange(len(self.indexes)) \n",
    "        n = 100\n",
    "        selected_indexes = self.indexes[indexes]\n",
    "        indices_i, indices_j = selected_indexes[:, 0], selected_indexes[:, 1]\n",
    "\n",
    "        \n",
    "        # Wrap-around for previous and next indices\n",
    "        i_prev = (indices_i - 1) % n\n",
    "        i_next = (indices_i + 1) % n\n",
    "        s=np.array(solution)\n",
    "        u=np.array(unselected_list)\n",
    "        # Get node values\n",
    "        node_prev = s[i_prev]\n",
    "        node_current =s[indices_i]  \n",
    "        node_next = s[i_next]\n",
    "        node_unselected = u[indices_j]\n",
    "\n",
    "        # Compute differences\n",
    "        differences = (\n",
    "            -self.dist_mat[node_prev, node_current]\n",
    "            - self.dist_mat[node_current, node_next]\n",
    "            + self.dist_mat[node_prev, node_unselected]\n",
    "            + self.dist_mat[node_unselected, node_next]\n",
    "        )\n",
    "        return differences\n",
    "    def get_difference(self, ind, solution: List[int], unselected):\n",
    "        n = len(solution)\n",
    "        i, j = self.indexes[ind]\n",
    "        i1 = solution[(i-1)%n]\n",
    "        i2 = solution[i]\n",
    "        i3 = solution[(i+1)%n]\n",
    "\n",
    "        j1 = unselected[j]\n",
    "\n",
    "        return -self.dist_mat[i1, i2] -self.dist_mat[i2, i3] + self.dist_mat[i1, j1] + self.dist_mat[j1, i3]\n",
    "    \n",
    "    def modify_solution(self, ind, solution: List[int], unselected: SortedList):\n",
    "        i, j = self.indexes[ind]\n",
    "        current_node = solution[i]\n",
    "        solution[i] = unselected[j]\n",
    "        unselected.remove(unselected[j])\n",
    "        unselected.add(current_node)\n",
    "        return solution\n",
    "    def get_affected_indexes(self, ind, solution: List[int]) -> List[int]:\n",
    "        i, j = self.indexes[ind]\n",
    "        n = len(solution)\n",
    "        adjacent_indices = { (i - 1) % n, (i + 1) % n, i }\n",
    "        affected = set()\n",
    "        for k, (x, y) in enumerate(self.indexes):\n",
    "            if x in adjacent_indices or y in adjacent_indices:\n",
    "                affected.add(k)\n",
    "            if y == j:\n",
    "                affected.add(k)\n",
    "        \n",
    "        return list(affected)\n",
    "\n",
    "class CombinedNeighborhood(Neighborhood):\n",
    "    def __init__(self , neighborhoods: List[Neighborhood]) -> None:\n",
    "        self.neighborhoods = neighborhoods\n",
    "     \n",
    "        self.offsets = np.cumsum([0] + [n.neighborhood_size() for n in neighborhoods])\n",
    "        self.size = self.offsets[-1]\n",
    "        # Create a unified index array for the entire combined neighborhood\n",
    "        self.indexes = np.concatenate(\n",
    "            [n.indexes for  n in neighborhoods]\n",
    "        )\n",
    "    def neighborhood_size(self):\n",
    "        return self.size\n",
    "    def batch_get_differences(self, solution: List[int], unselected: SortedList, indexes=None):\n",
    "        if indexes is None:\n",
    "            differences = []\n",
    "            for neighborhood in self.neighborhoods:\n",
    "                differences.append(neighborhood.batch_get_differences(solution, unselected))\n",
    "            # Concatenate differences into one array\n",
    "            return np.concatenate(differences)\n",
    "        else:\n",
    "            differences = []\n",
    "            idx=0\n",
    "            \n",
    "            id1=0\n",
    "            for neighborhood in self.neighborhoods:\n",
    "                idx+=neighborhood.size\n",
    "                idxs=np.array(indexes)\n",
    "                idxs=idxs[idxs>id1]\n",
    "                idxs=idxs[idxs<idx] \n",
    "                idxs=idxs-id1\n",
    "                differences.append(neighborhood.batch_get_differences(solution, unselected, idxs))\n",
    "                id1+=idx\n",
    "            # Concatenate differences into one array\n",
    "            return np.concatenate(differences)\n",
    "    def get_difference(self, ind, solution: List[int], unselected):\n",
    "        for neighborhood in self.neighborhoods:\n",
    "            size = neighborhood.neighborhood_size()\n",
    "            if ind < size:\n",
    "                return neighborhood.get_difference(ind, solution, unselected)\n",
    "            ind -= size\n",
    "\n",
    "    def modify_solution(self, ind, solution: List[int], unselected: SortedList):\n",
    "        for neighborhood in self.neighborhoods:\n",
    "            size = neighborhood.neighborhood_size()\n",
    "            if ind < size:\n",
    "                return neighborhood.modify_solution(ind, solution, unselected)\n",
    "            ind -= size\n",
    "    def get_affected_indexes(self, ind, solution: List[int]) -> List[int]:\n",
    "            size=self.neighborhoods[0].neighborhood_size()\n",
    "            if ind < size:\n",
    "                return self.neighborhoods[0].get_affected_indexes(ind, solution)\n",
    "            else:\n",
    "                ind-=size\n",
    "                return [x+size for x in self.neighborhoods[1].get_affected_indexes(ind, solution)]\n",
    "            "
   ]
  },
  {
   "cell_type": "code",
   "execution_count": 54,
   "metadata": {},
   "outputs": [],
   "source": [
    "def steepest(starting_solution: List[int], distance_matrix: np.ndarray, costs: np.ndarray, neighborhood: Neighborhood) -> list:\n",
    "    unselected = SortedList(range(len(costs)))\n",
    "    for i in starting_solution:\n",
    "        unselected.remove(i)\n",
    "\n",
    "    solution = starting_solution.copy()\n",
    "\n",
    "    while True:\n",
    "        objective_changes = neighborhood.batch_get_differences(solution, unselected)\n",
    "        best_index = np.argmin(objective_changes)\n",
    "    \n",
    "        if objective_changes[best_index] >= 0:\n",
    "            return solution\n",
    "    \n",
    "        solution = neighborhood.modify_solution(best_index, solution, unselected)\n"
   ]
  },
  {
   "cell_type": "code",
   "execution_count": 55,
   "metadata": {},
   "outputs": [],
   "source": [
    "def msls( distance_matrix, costs, neighborhood,number_of_iterations=200):\n",
    "    solutions=[get_random_solution(200) for x in range(number_of_iterations)]\n",
    "    best_fit=999999999\n",
    "    best_sol=None\n",
    "    for sol in solutions:\n",
    "        s=steepest(sol, dist, costs, neighborhood)\n",
    "        if score(s, distance_matrix, costs) < best_fit:\n",
    "            best_fit=score(s, distance_matrix, costs)\n",
    "            best_sol=s\n",
    "    return best_sol"
   ]
  },
  {
   "cell_type": "code",
   "execution_count": 67,
   "metadata": {},
   "outputs": [],
   "source": [
    "def ils(pert_f, distance_matrix, costs, neighborhood):\n",
    "    x=get_random_solution(200)\n",
    "    best_fit=999999999\n",
    "    best_sol=None\n",
    "    start_time=time.time()\n",
    "    i=0\n",
    "    previous_score=score(x, distance_matrix, costs)\n",
    "    while time.time()-start_time<25:\n",
    "        y=x.copy()\n",
    "        for function in pert_f:\n",
    "            y=function(y)\n",
    "        \n",
    "        y=steepest(y, dist, costs, neighborhood)\n",
    "      \n",
    "        scor=score(y, distance_matrix, costs)\n",
    "        if scor<previous_score:\n",
    "            x=y\n",
    "        i+=1\n",
    "        if  scor< best_fit:\n",
    "            best_fit=scor\n",
    "            best_sol=y\n",
    "    return best_sol, i"
   ]
  },
  {
   "cell_type": "code",
   "execution_count": 57,
   "metadata": {},
   "outputs": [],
   "source": [
    "n = 200\n",
    "interNeighborhood = InterNeighborhood(dist, costs, n // 2)\n",
    "edgeNeighborhood = EdgeNeighborhood(dist, costs, n // 2)\n",
    "neighborhood = CombinedNeighborhood([edgeNeighborhood, interNeighborhood])\n"
   ]
  },
  {
   "cell_type": "code",
   "execution_count": 58,
   "metadata": {},
   "outputs": [],
   "source": [
    "def per(sol):\n",
    "    un=[x for x in range(200) if x not in sol]\n",
    "    np.random.shuffle(un)\n",
    "    sol=sol[:97]+un[:3]\n",
    "    return sol"
   ]
  },
  {
   "cell_type": "code",
   "execution_count": 59,
   "metadata": {},
   "outputs": [],
   "source": [
    "def rswap(sol):\n",
    "    i=np.random.randint(0,100)\n",
    "    j=np.random.randint(0,100)\n",
    "    tmp=sol[i]\n",
    "    sol[i]=sol[j]\n",
    "    sol[j]=tmp\n",
    "    return sol"
   ]
  },
  {
   "cell_type": "code",
   "execution_count": 60,
   "metadata": {},
   "outputs": [],
   "source": [
    "def shuff(sol):\n",
    "    i=np.random.randint(0,100)\n",
    "    j=np.random.randint(0,100)\n",
    "    s=sol[i:j]\n",
    "    np.random.shuffle(s)\n",
    "    sol[i:j]=s\n",
    "    return sol"
   ]
  },
  {
   "cell_type": "code",
   "execution_count": 61,
   "metadata": {},
   "outputs": [],
   "source": [
    "def invert(sol):\n",
    "    i=np.random.randint(0,100)\n",
    "    j=np.random.randint(0,100)\n",
    "    sol[i:j]=sol[i:j][::-1]\n",
    "    return sol"
   ]
  },
  {
   "cell_type": "code",
   "execution_count": 62,
   "metadata": {},
   "outputs": [],
   "source": [
    "def test_method(Neighborhood: CombinedNeighborhood, dist, costs, coordinates, name='',pert_f=None):\n",
    "    scores_2=[]\n",
    "    sols_2=[]\n",
    "    times = list()\n",
    "    for x in range(20):\n",
    "\n",
    "\n",
    "        begin_time = time.time()\n",
    "        if pert_f is None:\n",
    "            solution_2=msls( dist, costs, Neighborhood)\n",
    "        else:\n",
    "            solution_2=ils(pert_f, dist, costs, Neighborhood)\n",
    "     \n",
    "        times.append(time.time() - begin_time)\n",
    "\n",
    "        solution_2 = [int(e) for e in solution_2]\n",
    "        sols_2.append(solution_2)\n",
    "\n",
    "        scores_2.append(score(solution_2, dist, costs))   \n",
    "\n",
    "    print('scores: ', min(scores_2), sum(scores_2)/len(scores_2), max(scores_2))\n",
    "    print(sols_2[scores_2.index(min(scores_2))])\n",
    "    print(f'execution time: {min(times)} {sum(times)/len(times)} {max(times)}')\n",
    "    plot_solution(sols_2[scores_2.index(min(scores_2))], coordinates, costs, f'best solution for {name}')"
   ]
  },
  {
   "cell_type": "code",
   "execution_count": 63,
   "metadata": {},
   "outputs": [],
   "source": [
    "n = 200\n",
    "interNeighborhood = InterNeighborhood(dist, costs, n // 2)\n",
    "edgeNeighborhood = EdgeNeighborhood(dist, costs, n // 2)\n",
    "neighborhood = CombinedNeighborhood([edgeNeighborhood, interNeighborhood])"
   ]
  },
  {
   "cell_type": "code",
   "execution_count": 65,
   "metadata": {},
   "outputs": [],
   "source": [
    "sol=msls(dist, costs, neighborhood)"
   ]
  },
  {
   "cell_type": "code",
   "execution_count": 66,
   "metadata": {},
   "outputs": [
    {
     "data": {
      "text/plain": [
       "71808"
      ]
     },
     "execution_count": 66,
     "metadata": {},
     "output_type": "execute_result"
    }
   ],
   "source": [
    "score(sol, dist, costs)"
   ]
  },
  {
   "cell_type": "code",
   "execution_count": 68,
   "metadata": {},
   "outputs": [],
   "source": [
    "s,i=ils([rswap], dist, costs, neighborhood)"
   ]
  },
  {
   "cell_type": "code",
   "execution_count": 69,
   "metadata": {},
   "outputs": [
    {
     "data": {
      "text/plain": [
       "70227"
      ]
     },
     "execution_count": 69,
     "metadata": {},
     "output_type": "execute_result"
    }
   ],
   "source": [
    "score(s, dist, costs)"
   ]
  },
  {
   "cell_type": "code",
   "execution_count": 70,
   "metadata": {},
   "outputs": [],
   "source": [
    "s,i=ils([shuff], dist, costs, neighborhood)"
   ]
  },
  {
   "cell_type": "code",
   "execution_count": 71,
   "metadata": {},
   "outputs": [
    {
     "data": {
      "text/plain": [
       "70115"
      ]
     },
     "execution_count": 71,
     "metadata": {},
     "output_type": "execute_result"
    }
   ],
   "source": [
    "score(s, dist, costs)"
   ]
  },
  {
   "cell_type": "code",
   "execution_count": 72,
   "metadata": {},
   "outputs": [],
   "source": [
    "s,i=ils([invert], dist, costs, neighborhood)"
   ]
  },
  {
   "cell_type": "code",
   "execution_count": 73,
   "metadata": {},
   "outputs": [
    {
     "data": {
      "text/plain": [
       "74091"
      ]
     },
     "execution_count": 73,
     "metadata": {},
     "output_type": "execute_result"
    }
   ],
   "source": [
    "score(s, dist, costs)"
   ]
  },
  {
   "cell_type": "code",
   "execution_count": 74,
   "metadata": {},
   "outputs": [],
   "source": [
    "s,i=ils([rswap, per], dist, costs, neighborhood)"
   ]
  },
  {
   "cell_type": "code",
   "execution_count": 75,
   "metadata": {},
   "outputs": [
    {
     "data": {
      "text/plain": [
       "70349"
      ]
     },
     "execution_count": 75,
     "metadata": {},
     "output_type": "execute_result"
    }
   ],
   "source": [
    "score(s, dist, costs)"
   ]
  },
  {
   "cell_type": "code",
   "execution_count": 76,
   "metadata": {},
   "outputs": [],
   "source": [
    "s,i=ils([per, shuff], dist, costs, neighborhood)"
   ]
  },
  {
   "cell_type": "code",
   "execution_count": 77,
   "metadata": {},
   "outputs": [
    {
     "data": {
      "text/plain": [
       "70376"
      ]
     },
     "execution_count": 77,
     "metadata": {},
     "output_type": "execute_result"
    }
   ],
   "source": [
    "score(s, dist, costs)"
   ]
  },
  {
   "cell_type": "code",
   "execution_count": 78,
   "metadata": {},
   "outputs": [],
   "source": [
    "s,i=ils([per, invert, shuff], dist, costs, neighborhood)"
   ]
  },
  {
   "cell_type": "code",
   "execution_count": 79,
   "metadata": {},
   "outputs": [
    {
     "data": {
      "text/plain": [
       "69911"
      ]
     },
     "execution_count": 79,
     "metadata": {},
     "output_type": "execute_result"
    }
   ],
   "source": [
    "score(s, dist, costs)"
   ]
  }
 ],
 "metadata": {
  "kernelspec": {
   "display_name": "Python 3",
   "language": "python",
   "name": "python3"
  },
  "language_info": {
   "codemirror_mode": {
    "name": "ipython",
    "version": 3
   },
   "file_extension": ".py",
   "mimetype": "text/x-python",
   "name": "python",
   "nbconvert_exporter": "python",
   "pygments_lexer": "ipython3",
   "version": "3.10.0"
  }
 },
 "nbformat": 4,
 "nbformat_minor": 2
}
