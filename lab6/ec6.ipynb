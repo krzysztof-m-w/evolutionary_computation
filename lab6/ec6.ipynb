{
 "cells": [
  {
   "cell_type": "code",
   "execution_count": 2,
   "metadata": {},
   "outputs": [],
   "source": [
    "import sys\n",
    "import os\n",
    "import numpy as np\n",
    "import pandas as pd\n",
    "from scipy.spatial import distance_matrix\n",
    "from typing import List\n",
    "import matplotlib.pyplot as plt\n",
    "import math\n",
    "import time\n",
    "sys.path.insert(1, '../utils')\n",
    "from utils import *\n",
    "from utils import plot_solution, greedy_2_regret_weighted, score, get_random_solution\n",
    "from typing import Callable, Tuple\n",
    "from abc import ABC, abstractmethod\n",
    "from sortedcontainers import SortedList"
   ]
  },
  {
   "cell_type": "code",
   "execution_count": 3,
   "metadata": {},
   "outputs": [],
   "source": [
    "a=pd.read_csv('../data/TSPA.csv', sep=';', header=None)\n",
    "b=pd.read_csv('../data/TSPB.csv', sep=';', header=None)\n",
    "tspa=pd.DataFrame(data=a.values, columns=['x', 'y', 'val'])\n",
    "tspb=pd.DataFrame(data=b.values, columns=['x', 'y', 'val'])\n",
    "coordinates=tspa[['x', 'y']].values\n",
    "coordinatesb=tspb[['x', 'y']].values\n",
    "dist=distance_matrix(coordinates, coordinates)\n",
    "dist=np.round(dist)\n",
    "distb=distance_matrix(coordinatesb, coordinatesb)\n",
    "distb=np.round(distb)\n",
    "costs=tspa[['val']].values\n",
    "costsb=tspb[['val']].values"
   ]
  },
  {
   "cell_type": "code",
   "execution_count": 4,
   "metadata": {},
   "outputs": [],
   "source": [
    "class Neighborhood(ABC):\n",
    "    @abstractmethod\n",
    "    def neighborhood_size(self):\n",
    "        pass\n",
    "\n",
    "    @abstractmethod\n",
    "    def get_difference(self, ind, solution: List[int], unselected):\n",
    "        pass\n",
    "\n",
    "    @abstractmethod\n",
    "    def modify_solution(self, ind, solution: List[int], unselected):\n",
    "        pass\n"
   ]
  },
  {
   "cell_type": "code",
   "execution_count": 5,
   "metadata": {},
   "outputs": [],
   "source": [
    "class EdgeNeighborhood(Neighborhood):\n",
    "    def __init__(self, distance_matrix: np.ndarray, costs: np.ndarray, n) -> None:\n",
    "        self.distance_matrix = distance_matrix\n",
    "        self.costs = costs\n",
    "        self.indexes = list()\n",
    "        for i in range(1, n-1):\n",
    "            m = n - 1 if i == 1 else n\n",
    "            for j in range(i+1, m):\n",
    "                self.indexes.append((i,j))\n",
    "\n",
    "    def neighborhood_size(self):\n",
    "        return len(self.indexes)\n",
    "    \n",
    "    def get_difference(self, ind, solution: List[int], unselected: SortedList):\n",
    "        n = len(solution)\n",
    "        i, j = self.indexes[ind]\n",
    "\n",
    "        i1 = solution[i - 1]\n",
    "        i2 = solution[i]\n",
    "\n",
    "        j1 = solution[j]\n",
    "        j2 = solution[(j + 1)%n]\n",
    "\n",
    "        return -self.distance_matrix[i1, i2] - self.distance_matrix[j1, j2] \\\n",
    "            + self.distance_matrix[i1, j1] + self.distance_matrix[i2, j2]\n",
    "    \n",
    "    def modify_solution(self, ind, solution: List[int], unselected: SortedList):\n",
    "        i, j = self.indexes[ind]\n",
    "        solution[i:j+1] = solution[j:i-1:-1]\n",
    "        return solution\n"
   ]
  },
  {
   "cell_type": "code",
   "execution_count": 6,
   "metadata": {},
   "outputs": [],
   "source": [
    "from typing import List\n",
    "\n",
    "\n",
    "class InterNeighborhood(Neighborhood):\n",
    "    def __init__(self, distance_matrix: np.ndarray, costs: np.ndarray, n) -> None:\n",
    "        self.dist_mat = (distance_matrix+costs).T\n",
    "        self.indexes = list()\n",
    "        m = len(self.dist_mat) - n\n",
    "        for i in range(n):\n",
    "            for j in range(m):\n",
    "                self.indexes.append((i,j))\n",
    "\n",
    "    def neighborhood_size(self):\n",
    "        return len(self.indexes)\n",
    "    \n",
    "    def get_difference(self, ind, solution: List[int], unselected):\n",
    "        n = len(solution)\n",
    "        i, j = self.indexes[ind]\n",
    "        i1 = solution[(i-1)%n]\n",
    "        i2 = solution[i]\n",
    "        i3 = solution[(i+1)%n]\n",
    "\n",
    "        j1 = unselected[j]\n",
    "\n",
    "        return -self.dist_mat[i1, i2] -self.dist_mat[i2, i3] + self.dist_mat[i1, j1] + self.dist_mat[j1, i3]\n",
    "    \n",
    "    def modify_solution(self, ind, solution: List[int], unselected: SortedList):\n",
    "        i, j = self.indexes[ind]\n",
    "        current_node = solution[i]\n",
    "        solution[i] = unselected[j]\n",
    "        unselected.remove(unselected[j])\n",
    "        unselected.add(current_node)\n",
    "        return solution"
   ]
  },
  {
   "cell_type": "code",
   "execution_count": 7,
   "metadata": {},
   "outputs": [],
   "source": [
    "class CombinedNeighborhood(Neighborhood):\n",
    "    def __init__(self , neighborhoods: List[Neighborhood]) -> None:\n",
    "        self.neighborhoods = neighborhoods\n",
    "        self.size = sum(n.neighborhood_size() for n in self.neighborhoods)\n",
    "\n",
    "    def neighborhood_size(self):\n",
    "        return self.size\n",
    "    \n",
    "    def get_difference(self, ind, solution: List[int], unselected):\n",
    "        for neighborhood in self.neighborhoods:\n",
    "            size = neighborhood.neighborhood_size()\n",
    "            if ind < size:\n",
    "                return neighborhood.get_difference(ind, solution, unselected)\n",
    "            ind -= size\n",
    "\n",
    "    def modify_solution(self, ind, solution: List[int], unselected: SortedList):\n",
    "        for neighborhood in self.neighborhoods:\n",
    "            size = neighborhood.neighborhood_size()\n",
    "            if ind < size:\n",
    "                return neighborhood.modify_solution(ind, solution, unselected)\n",
    "            ind -= size"
   ]
  },
  {
   "cell_type": "code",
   "execution_count": 8,
   "metadata": {},
   "outputs": [],
   "source": [
    "def steepest(starting_solution: List[int], distance_matrix: np.ndarray, costs: np.ndarray, neighborhood: Neighborhood) -> list:\n",
    "    unselected = SortedList(range(len(costs)))\n",
    "    for i in starting_solution:\n",
    "        unselected.remove(i)\n",
    "    solution = starting_solution.copy()\n",
    "    while True:\n",
    "        objective_changes = [neighborhood.get_difference(i, solution, unselected) for i in range(neighborhood.neighborhood_size())]\n",
    "        best_index = np.argmin(objective_changes)\n",
    "        if objective_changes[best_index] >= 0:\n",
    "            return solution\n",
    "        solution = neighborhood.modify_solution(best_index, solution, unselected)\n"
   ]
  },
  {
   "cell_type": "code",
   "execution_count": 9,
   "metadata": {},
   "outputs": [],
   "source": [
    "def msls(number_of_iterations, distance_matrix, costs, neighborhood):\n",
    "    solutions=[get_random_solution(200) for x in range(number_of_iterations)]\n",
    "    best_fit=999999999\n",
    "    best_sol=None\n",
    "    for sol in solutions:\n",
    "        s=steepest(sol, distance_matrix, costs, neighborhood)\n",
    "        if score(s, distance_matrix, costs) < best_fit:\n",
    "            best_fit=score(s, distance_matrix, costs)\n",
    "            best_sol=s\n",
    "    return best_sol"
   ]
  },
  {
   "cell_type": "code",
   "execution_count": 10,
   "metadata": {},
   "outputs": [],
   "source": [
    "n = 200\n",
    "interNeighborhood = InterNeighborhood(dist, costs, n // 2)\n",
    "edgeNeighborhood = EdgeNeighborhood(dist, costs, n // 2)\n",
    "neighborhood = CombinedNeighborhood([edgeNeighborhood, interNeighborhood])\n"
   ]
  },
  {
   "cell_type": "code",
   "execution_count": null,
   "metadata": {},
   "outputs": [],
   "source": [
    "s=msls(200, dist, costs, neighborhood)"
   ]
  }
 ],
 "metadata": {
  "kernelspec": {
   "display_name": "Python 3",
   "language": "python",
   "name": "python3"
  },
  "language_info": {
   "codemirror_mode": {
    "name": "ipython",
    "version": 3
   },
   "file_extension": ".py",
   "mimetype": "text/x-python",
   "name": "python",
   "nbconvert_exporter": "python",
   "pygments_lexer": "ipython3",
   "version": "3.10.0"
  }
 },
 "nbformat": 4,
 "nbformat_minor": 2
}
