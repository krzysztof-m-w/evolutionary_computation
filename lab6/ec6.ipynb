{
 "cells": [
  {
   "cell_type": "code",
   "execution_count": 2,
   "metadata": {},
   "outputs": [],
   "source": [
    "import sys\n",
    "import os\n",
    "import numpy as np\n",
    "import pandas as pd\n",
    "from scipy.spatial import distance_matrix\n",
    "from typing import List\n",
    "import matplotlib.pyplot as plt\n",
    "import math\n",
    "import time\n",
    "sys.path.insert(1, '../utils')\n",
    "from utils import *\n",
    "from utils import plot_solution, greedy_2_regret_weighted, score, get_random_solution\n",
    "from typing import Callable, Tuple\n",
    "from abc import ABC, abstractmethod\n",
    "from sortedcontainers import SortedList"
   ]
  },
  {
   "cell_type": "code",
   "execution_count": 3,
   "metadata": {},
   "outputs": [],
   "source": [
    "a=pd.read_csv('../data/TSPA.csv', sep=';', header=None)\n",
    "b=pd.read_csv('../data/TSPB.csv', sep=';', header=None)\n",
    "tspa=pd.DataFrame(data=a.values, columns=['x', 'y', 'val'])\n",
    "tspb=pd.DataFrame(data=b.values, columns=['x', 'y', 'val'])\n",
    "coordinates=tspa[['x', 'y']].values\n",
    "coordinatesb=tspb[['x', 'y']].values\n",
    "dist=distance_matrix(coordinates, coordinates)\n",
    "dist=np.round(dist)\n",
    "distb=distance_matrix(coordinatesb, coordinatesb)\n",
    "distb=np.round(distb)\n",
    "costs=tspa[['val']].values\n",
    "costsb=tspb[['val']].values"
   ]
  }
 ],
 "metadata": {
  "kernelspec": {
   "display_name": "Python 3",
   "language": "python",
   "name": "python3"
  },
  "language_info": {
   "codemirror_mode": {
    "name": "ipython",
    "version": 3
   },
   "file_extension": ".py",
   "mimetype": "text/x-python",
   "name": "python",
   "nbconvert_exporter": "python",
   "pygments_lexer": "ipython3",
   "version": "3.10.0"
  }
 },
 "nbformat": 4,
 "nbformat_minor": 2
}
