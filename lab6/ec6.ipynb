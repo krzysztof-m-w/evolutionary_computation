{
 "cells": [
  {
   "cell_type": "code",
   "execution_count": 4,
   "metadata": {},
   "outputs": [],
   "source": [
    "import sys\n",
    "import os\n",
    "import numpy as np\n",
    "import pandas as pd\n",
    "from scipy.spatial import distance_matrix\n",
    "from typing import List\n",
    "import matplotlib.pyplot as plt\n",
    "import math\n",
    "import time\n",
    "sys.path.insert(1, '../utils')\n",
    "from utils import *\n",
    "from utils import plot_solution, greedy_2_regret_weighted, score, get_random_solution\n",
    "from typing import Callable, Tuple\n",
    "from abc import ABC, abstractmethod\n",
    "from sortedcontainers import SortedList"
   ]
  },
  {
   "cell_type": "code",
   "execution_count": 5,
   "metadata": {},
   "outputs": [],
   "source": [
    "a=pd.read_csv('../data/TSPA.csv', sep=';', header=None)\n",
    "b=pd.read_csv('../data/TSPB.csv', sep=';', header=None)\n",
    "tspa=pd.DataFrame(data=a.values, columns=['x', 'y', 'val'])\n",
    "tspb=pd.DataFrame(data=b.values, columns=['x', 'y', 'val'])\n",
    "coordinates=tspa[['x', 'y']].values\n",
    "coordinatesb=tspb[['x', 'y']].values\n",
    "dist=distance_matrix(coordinates, coordinates)\n",
    "dist=np.round(dist)\n",
    "distb=distance_matrix(coordinatesb, coordinatesb)\n",
    "distb=np.round(distb)\n",
    "costs=tspa[['val']].values\n",
    "costsb=tspb[['val']].values"
   ]
  },
  {
   "cell_type": "code",
   "execution_count": 6,
   "metadata": {},
   "outputs": [],
   "source": [
    "class Neighborhood(ABC):\n",
    "    @abstractmethod\n",
    "    def neighborhood_size(self):\n",
    "        pass\n",
    "\n",
    "    @abstractmethod\n",
    "    def get_difference(self, ind, solution: List[int], unselected):\n",
    "        pass\n",
    "\n",
    "    @abstractmethod\n",
    "    def modify_solution(self, ind, solution: List[int], unselected):\n",
    "        pass\n"
   ]
  },
  {
   "cell_type": "code",
   "execution_count": 7,
   "metadata": {},
   "outputs": [],
   "source": [
    "class EdgeNeighborhood(Neighborhood):\n",
    "    def __init__(self, distance_matrix: np.ndarray, costs: np.ndarray, n) -> None:\n",
    "        self.distance_matrix = distance_matrix\n",
    "        self.costs = costs\n",
    "        self.indexes = list()\n",
    "        for i in range(1, n-1):\n",
    "            m = n - 1 if i == 1 else n\n",
    "            for j in range(i+1, m):\n",
    "                self.indexes.append((i,j))\n",
    "\n",
    "    def neighborhood_size(self):\n",
    "        return len(self.indexes)\n",
    "    \n",
    "    def get_difference(self, ind, solution: List[int], unselected: SortedList):\n",
    "        n = len(solution)\n",
    "        i, j = self.indexes[ind]\n",
    "\n",
    "        i1 = solution[i - 1]\n",
    "        i2 = solution[i]\n",
    "\n",
    "        j1 = solution[j]\n",
    "        j2 = solution[(j + 1)%n]\n",
    "\n",
    "        return -self.distance_matrix[i1, i2] - self.distance_matrix[j1, j2] \\\n",
    "            + self.distance_matrix[i1, j1] + self.distance_matrix[i2, j2]\n",
    "    \n",
    "    def modify_solution(self, ind, solution: List[int], unselected: SortedList):\n",
    "        i, j = self.indexes[ind]\n",
    "        solution[i:j+1] = solution[j:i-1:-1]\n",
    "        return solution\n",
    "    def get_affected_indexes(self, ind, solution: List[int]) -> List[int]:\n",
    "        i, j = self.indexes[ind]\n",
    "        start = i - 1\n",
    "        end = j + 2\n",
    "        reversed_segment = set(range(start, end)) \n",
    "        affected = set()\n",
    "        for k, (x, y) in enumerate(self.indexes):\n",
    "            if x in reversed_segment or y in reversed_segment:\n",
    "                affected.add(k)\n",
    "\n",
    "        return list(affected)\n",
    "\n",
    "    \n",
    "class InterNeighborhood(Neighborhood):\n",
    "    def __init__(self, distance_matrix: np.ndarray, costs: np.ndarray, n) -> None:\n",
    "        self.dist_mat = (distance_matrix+costs).T\n",
    "        self.indexes = list()\n",
    "        m = len(self.dist_mat) - n\n",
    "        for i in range(n):\n",
    "            for j in range(m):\n",
    "                self.indexes.append((i,j))\n",
    "\n",
    "    def neighborhood_size(self):\n",
    "        return len(self.indexes)\n",
    "    \n",
    "    def get_difference(self, ind, solution: List[int], unselected):\n",
    "        n = len(solution)\n",
    "        i, j = self.indexes[ind]\n",
    "        i1 = solution[(i-1)%n]\n",
    "        i2 = solution[i]\n",
    "        i3 = solution[(i+1)%n]\n",
    "\n",
    "        j1 = unselected[j]\n",
    "\n",
    "        return -self.dist_mat[i1, i2] -self.dist_mat[i2, i3] + self.dist_mat[i1, j1] + self.dist_mat[j1, i3]\n",
    "    \n",
    "    def modify_solution(self, ind, solution: List[int], unselected: SortedList):\n",
    "        i, j = self.indexes[ind]\n",
    "        current_node = solution[i]\n",
    "        solution[i] = unselected[j]\n",
    "        unselected.remove(unselected[j])\n",
    "        unselected.add(current_node)\n",
    "        return solution\n",
    "    def get_affected_indexes(self, ind, solution: List[int]) -> List[int]:\n",
    "        i, j = self.indexes[ind]\n",
    "        n = len(solution)\n",
    "        adjacent_indices = { (i - 1) % n, (i + 1) % n, i }\n",
    "        affected = set()\n",
    "        for k, (x, y) in enumerate(self.indexes):\n",
    "            if x in adjacent_indices or y in adjacent_indices:\n",
    "                affected.add(k)\n",
    "            if y == j:\n",
    "                affected.add(k)\n",
    "        \n",
    "        return list(affected)\n",
    "\n",
    "class CombinedNeighborhood(Neighborhood):\n",
    "    def __init__(self , neighborhoods: List[Neighborhood]) -> None:\n",
    "        self.neighborhoods = neighborhoods\n",
    "        self.size = sum(n.neighborhood_size() for n in self.neighborhoods)\n",
    "        self.indexes=[]\n",
    "        for neighborhood in neighborhoods:\n",
    "            self.indexes.extend(neighborhood.indexes)\n",
    "    def neighborhood_size(self):\n",
    "        return self.size\n",
    "    \n",
    "    def get_difference(self, ind, solution: List[int], unselected):\n",
    "        for neighborhood in self.neighborhoods:\n",
    "            size = neighborhood.neighborhood_size()\n",
    "            if ind < size:\n",
    "                return neighborhood.get_difference(ind, solution, unselected)\n",
    "            ind -= size\n",
    "\n",
    "    def modify_solution(self, ind, solution: List[int], unselected: SortedList):\n",
    "        for neighborhood in self.neighborhoods:\n",
    "            size = neighborhood.neighborhood_size()\n",
    "            if ind < size:\n",
    "                return neighborhood.modify_solution(ind, solution, unselected)\n",
    "            ind -= size\n",
    "    def get_affected_indexes(self, ind, solution: List[int]) -> List[int]:\n",
    "            size=self.neighborhoods[0].neighborhood_size()\n",
    "            if ind < size:\n",
    "                return self.neighborhoods[0].get_affected_indexes(ind, solution)\n",
    "            else:\n",
    "                ind-=size\n",
    "                return [x+size for x in self.neighborhoods[1].get_affected_indexes(ind, solution)]\n",
    "            "
   ]
  },
  {
   "cell_type": "code",
   "execution_count": null,
   "metadata": {},
   "outputs": [],
   "source": [
    "class SteepestLocalSearch:\n",
    "    def __init__(self, starting_solution: List[int], distance_matrix: np.ndarray, costs: np.ndarray, neighborhood: 'Neighborhood'):\n",
    "        self.solution = starting_solution.copy()\n",
    "        self.distance_matrix = distance_matrix\n",
    "        self.costs = costs\n",
    "        self.neighborhood = neighborhood\n",
    "        self.unselected = SortedList(range(len(costs)))\n",
    "        for i in starting_solution:\n",
    "            self.unselected.remove(i)\n",
    "        self.LM = {} \n",
    "\n",
    "    def initialize_moves(self):\n",
    "        for i in range(self.neighborhood.neighborhood_size()):\n",
    "            delta = self.neighborhood.get_difference(i, self.solution, self.unselected)\n",
    "            if delta < 0: \n",
    "                self.LM[i] = delta\n",
    "\n",
    "    def update_moves(self, affected_indexes: List[int]):\n",
    " \n",
    "        for i in affected_indexes:\n",
    "            delta = self.neighborhood.get_difference(i, self.solution, self.unselected)\n",
    "            if delta < 0:\n",
    "                self.LM[i] = delta \n",
    "            elif i in self.LM:\n",
    "                del self.LM[i]\n",
    "\n",
    "    def get_sorted_moves(self):\n",
    "        return sorted(self.LM.items(), key=lambda x: x[1])\n",
    "\n",
    "    def is_move_applicable(self, move: Tuple[int, float]) -> bool:\n",
    "        ind, _ = move\n",
    "        i, j = self.neighborhood.indexes[ind]\n",
    "        current_edges = {(self.solution[k], self.solution[(k + 1) % len(self.solution)]) for k in range(len(self.solution))}\n",
    "        move_edges = {(self.solution[i - 1], self.solution[i]), (self.solution[j], self.solution[(j + 1) % len(self.solution)])}\n",
    "        reversed_edges = {(b, a) for (a, b) in move_edges}\n",
    "\n",
    "    \n",
    "        if move_edges.isdisjoint(current_edges) and reversed_edges.isdisjoint(current_edges):\n",
    "            return 0 \n",
    "        elif move_edges.issubset(reversed_edges):\n",
    "            return 2  \n",
    "        return 1  \n",
    "\n",
    "    def apply_move(self, move: Tuple[int, float]) -> List[int]:\n",
    "        ind, _ = move\n",
    "        affected_indexes = self.neighborhood.get_affected_indexes(ind, self.solution)\n",
    "        self.solution = self.neighborhood.modify_solution(ind, self.solution, self.unselected)\n",
    "        return affected_indexes\n",
    "\n",
    "    def steepest_search(self):\n",
    "        self.initialize_moves()  \n",
    "        while True:\n",
    "            move_found = False\n",
    "            sorted_LM = self.get_sorted_moves()  \n",
    "\n",
    "            for move in sorted_LM:\n",
    "                app = self.is_move_applicable(move)\n",
    "                if app == 1:\n",
    "                    affected_indexes = self.apply_move(move) \n",
    "                    del self.LM[move[0]]  \n",
    "                    self.update_moves(affected_indexes) \n",
    "                    move_found = True\n",
    "                    break\n",
    "                elif app == 2:\n",
    "                    continue\n",
    "                else:\n",
    "                    del self.LM[move[0]]  \n",
    "\n",
    "            if not move_found:\n",
    "                return self.solution  \n",
    "\n"
   ]
  },
  {
   "cell_type": "code",
   "execution_count": 9,
   "metadata": {},
   "outputs": [],
   "source": [
    "def msls(number_of_iterations, distance_matrix, costs, neighborhood):\n",
    "    solutions=[get_random_solution(200) for x in range(number_of_iterations)]\n",
    "    best_fit=999999999\n",
    "    best_sol=None\n",
    "    for sol in solutions:\n",
    "        st=SteepestLocalSearch(sol, dist, costs, neighborhood)\n",
    "        s=st.steepest_search()\n",
    "        if score(s, distance_matrix, costs) < best_fit:\n",
    "            best_fit=score(s, distance_matrix, costs)\n",
    "            best_sol=s\n",
    "    return best_sol"
   ]
  },
  {
   "cell_type": "code",
   "execution_count": 10,
   "metadata": {},
   "outputs": [],
   "source": [
    "def ils(pert_f, distance_matrix, costs, neighborhood):\n",
    "    x=get_random_solution(200)\n",
    "    best_fit=999999999\n",
    "    best_sol=None\n",
    "    start_time=time.time()\n",
    "    i=0\n",
    "    previous_score=score(x, distance_matrix, costs)\n",
    "    while time.time()-start_time<200:\n",
    "        y=x.copy()\n",
    "        for function in pert_f:\n",
    "            y=function(y)\n",
    "        \n",
    "        st=SteepestLocalSearch(y, dist, costs, neighborhood)\n",
    "        y=st.steepest_search()\n",
    "        scor=score(y, distance_matrix, costs)\n",
    "        if scor<previous_score:\n",
    "            x=y\n",
    "        i+=1\n",
    "        if  scor< best_fit:\n",
    "            best_fit=scor\n",
    "            best_sol=y\n",
    "    return best_sol, i"
   ]
  },
  {
   "cell_type": "code",
   "execution_count": 11,
   "metadata": {},
   "outputs": [],
   "source": [
    "n = 200\n",
    "interNeighborhood = InterNeighborhood(dist, costs, n // 2)\n",
    "edgeNeighborhood = EdgeNeighborhood(dist, costs, n // 2)\n",
    "neighborhood = CombinedNeighborhood([edgeNeighborhood, interNeighborhood])\n"
   ]
  },
  {
   "cell_type": "code",
   "execution_count": 40,
   "metadata": {},
   "outputs": [],
   "source": [
    "def per(sol):\n",
    "    un=[x for x in range(200) if x not in sol]\n",
    "    np.random.shuffle(un)\n",
    "    sol=sol[:97]+un[:3]\n",
    "    return sol"
   ]
  },
  {
   "cell_type": "code",
   "execution_count": 13,
   "metadata": {},
   "outputs": [],
   "source": [
    "def rswap(sol):\n",
    "    i=np.random.randint(0,100)\n",
    "    j=np.random.randint(0,100)\n",
    "    tmp=sol[i]\n",
    "    sol[i]=sol[j]\n",
    "    sol[j]=tmp\n",
    "    return sol"
   ]
  },
  {
   "cell_type": "code",
   "execution_count": 14,
   "metadata": {},
   "outputs": [],
   "source": [
    "def shuff(sol):\n",
    "    i=np.random.randint(0,100)\n",
    "    j=np.random.randint(0,100)\n",
    "    s=sol[i:j]\n",
    "    np.random.shuffle(s)\n",
    "    sol[i:j]=s\n",
    "    return sol"
   ]
  },
  {
   "cell_type": "code",
   "execution_count": 15,
   "metadata": {},
   "outputs": [],
   "source": [
    "def invert(sol):\n",
    "    i=np.random.randint(0,100)\n",
    "    j=np.random.randint(0,100)\n",
    "    sol[i:j]=sol[i:j][::-1]\n",
    "    return sol"
   ]
  },
  {
   "cell_type": "code",
   "execution_count": 28,
   "metadata": {},
   "outputs": [],
   "source": [
    "s=msls(200, dist, costs, neighborhood)"
   ]
  },
  {
   "cell_type": "code",
   "execution_count": 29,
   "metadata": {},
   "outputs": [
    {
     "data": {
      "text/plain": [
       "72117"
      ]
     },
     "execution_count": 29,
     "metadata": {},
     "output_type": "execute_result"
    }
   ],
   "source": [
    "score(s, dist, costs)"
   ]
  },
  {
   "cell_type": "code",
   "execution_count": 30,
   "metadata": {},
   "outputs": [],
   "source": [
    "s,i=ils([rswap], dist, costs, neighborhood)"
   ]
  },
  {
   "cell_type": "code",
   "execution_count": 31,
   "metadata": {},
   "outputs": [
    {
     "data": {
      "text/plain": [
       "69694"
      ]
     },
     "execution_count": 31,
     "metadata": {},
     "output_type": "execute_result"
    }
   ],
   "source": [
    "score(s, dist, costs)"
   ]
  },
  {
   "cell_type": "code",
   "execution_count": 32,
   "metadata": {},
   "outputs": [],
   "source": [
    "s,i=ils([shuff], dist, costs, neighborhood)"
   ]
  },
  {
   "cell_type": "code",
   "execution_count": 33,
   "metadata": {},
   "outputs": [
    {
     "data": {
      "text/plain": [
       "70614"
      ]
     },
     "execution_count": 33,
     "metadata": {},
     "output_type": "execute_result"
    }
   ],
   "source": [
    "score(s, dist, costs)"
   ]
  },
  {
   "cell_type": "code",
   "execution_count": 37,
   "metadata": {},
   "outputs": [],
   "source": [
    "s,i=ils([invert], dist, costs, neighborhood)"
   ]
  },
  {
   "cell_type": "code",
   "execution_count": 38,
   "metadata": {},
   "outputs": [
    {
     "data": {
      "text/plain": [
       "71750"
      ]
     },
     "execution_count": 38,
     "metadata": {},
     "output_type": "execute_result"
    }
   ],
   "source": [
    "score(s, dist, costs)"
   ]
  },
  {
   "cell_type": "code",
   "execution_count": 41,
   "metadata": {},
   "outputs": [],
   "source": [
    "s,i=ils([rswap, per], dist, costs, neighborhood)"
   ]
  },
  {
   "cell_type": "code",
   "execution_count": 42,
   "metadata": {},
   "outputs": [
    {
     "data": {
      "text/plain": [
       "70339"
      ]
     },
     "execution_count": 42,
     "metadata": {},
     "output_type": "execute_result"
    }
   ],
   "source": [
    "score(s, dist, costs)"
   ]
  },
  {
   "cell_type": "code",
   "execution_count": 43,
   "metadata": {},
   "outputs": [],
   "source": [
    "s,i=ils([per, shuff], dist, costs, neighborhood)"
   ]
  },
  {
   "cell_type": "code",
   "execution_count": 44,
   "metadata": {},
   "outputs": [
    {
     "data": {
      "text/plain": [
       "70823"
      ]
     },
     "execution_count": 44,
     "metadata": {},
     "output_type": "execute_result"
    }
   ],
   "source": [
    "score(s, dist, costs)"
   ]
  },
  {
   "cell_type": "code",
   "execution_count": 45,
   "metadata": {},
   "outputs": [],
   "source": [
    "s,i=ils([per, invert, shuff], dist, costs, neighborhood)"
   ]
  },
  {
   "cell_type": "code",
   "execution_count": 46,
   "metadata": {},
   "outputs": [
    {
     "data": {
      "text/plain": [
       "69985"
      ]
     },
     "execution_count": 46,
     "metadata": {},
     "output_type": "execute_result"
    }
   ],
   "source": [
    "score(s, dist, costs)"
   ]
  }
 ],
 "metadata": {
  "kernelspec": {
   "display_name": "Python 3",
   "language": "python",
   "name": "python3"
  },
  "language_info": {
   "codemirror_mode": {
    "name": "ipython",
    "version": 3
   },
   "file_extension": ".py",
   "mimetype": "text/x-python",
   "name": "python",
   "nbconvert_exporter": "python",
   "pygments_lexer": "ipython3",
   "version": "3.10.0"
  }
 },
 "nbformat": 4,
 "nbformat_minor": 2
}
