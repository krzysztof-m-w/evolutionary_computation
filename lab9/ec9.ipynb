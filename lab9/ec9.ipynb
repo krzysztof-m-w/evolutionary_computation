{
 "cells": [
  {
   "cell_type": "code",
   "execution_count": 1,
   "metadata": {},
   "outputs": [],
   "source": [
    "import sys\n",
    "import os\n",
    "import numpy as np\n",
    "import pandas as pd\n",
    "from scipy.spatial import distance_matrix\n",
    "from typing import List\n",
    "import matplotlib.pyplot as plt\n",
    "import math\n",
    "import time\n",
    "sys.path.insert(1, '../utils')\n",
    "from utils import *\n",
    "from utils import plot_solution, greedy_2_regret_weighted, score, get_random_solution\n",
    "from typing import Callable, Tuple\n",
    "from abc import ABC, abstractmethod\n",
    "from sortedcontainers import SortedList\n",
    "import random\n",
    "import numba"
   ]
  },
  {
   "cell_type": "code",
   "execution_count": 2,
   "metadata": {},
   "outputs": [],
   "source": [
    "a=pd.read_csv('../data/TSPA.csv', sep=';', header=None)\n",
    "b=pd.read_csv('../data/TSPB.csv', sep=';', header=None)\n",
    "tspa=pd.DataFrame(data=a.values, columns=['x', 'y', 'val'])\n",
    "tspb=pd.DataFrame(data=b.values, columns=['x', 'y', 'val'])\n",
    "coordinates=tspa[['x', 'y']].values\n",
    "coordinatesb=tspb[['x', 'y']].values\n",
    "dist=distance_matrix(coordinates, coordinates)\n",
    "dist=np.round(dist)\n",
    "distb=distance_matrix(coordinatesb, coordinatesb)\n",
    "distb=np.round(distb)\n",
    "costs=tspa[['val']].values\n",
    "costsb=tspb[['val']].values"
   ]
  },
  {
   "cell_type": "code",
   "execution_count": 106,
   "metadata": {},
   "outputs": [],
   "source": [
    "def get_child(p1,p2):\n",
    "    common_nodes=set(p1)&set(p2)\n",
    "    to_fill=list(set(range(200))-common_nodes)\n",
    "\n",
    "    c1,c2=np.zeros(100),np.zeros(100)\n",
    "    common_nodes=np.array(list(common_nodes)).reshape(1, len(common_nodes))\n",
    "    p1n,p2n=np.array(p1).reshape(len(p1), 1),np.array(p2).reshape(len(p2), 1)\n",
    "    \n",
    "    f1,f2=np.where(np.any(p1n==common_nodes, axis=1))[0],np.where(np.any(p2n==common_nodes, axis=1))[0]\n",
    "    c1[f1], c2[f2]=(p1n[f1]).reshape(-1),(p2n[f2]).reshape(-1)\n",
    "    np.random.shuffle(to_fill)\n",
    "    l=len(p1)-common_nodes.shape[-1]\n",
    "    c1[np.where(c1==0)[0]]=to_fill[:l]\n",
    "    np.random.shuffle(to_fill)\n",
    "    c2[np.where(c2==0)[0]]=to_fill[:l]\n",
    "    return c1, c2\n"
   ]
  },
  {
   "cell_type": "code",
   "execution_count": 107,
   "metadata": {},
   "outputs": [],
   "source": [
    "a,b=get_random_solution(200),get_random_solution(200)"
   ]
  }
 ],
 "metadata": {
  "kernelspec": {
   "display_name": "Python 3",
   "language": "python",
   "name": "python3"
  },
  "language_info": {
   "codemirror_mode": {
    "name": "ipython",
    "version": 3
   },
   "file_extension": ".py",
   "mimetype": "text/x-python",
   "name": "python",
   "nbconvert_exporter": "python",
   "pygments_lexer": "ipython3",
   "version": "3.10.0"
  }
 },
 "nbformat": 4,
 "nbformat_minor": 2
}
